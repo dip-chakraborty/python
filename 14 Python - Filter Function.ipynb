{
 "cells": [
  {
   "cell_type": "markdown",
   "id": "21464dc0",
   "metadata": {},
   "source": [
    "# FILTER Function - Filters out a specific condition through a boolean expression and provides values"
   ]
  },
  {
   "cell_type": "markdown",
   "id": "8d27c722",
   "metadata": {},
   "source": [
    "### filter(function, sequence)\n",
    "#### Parameters:\n",
    "#### function: function that tests if each element of a sequence true or not.\n",
    "#### sequence: sequence which needs to be filtered, it can be sets, lists, tuples, or containers of any iterators.\n",
    "#### Returns: returns an iterator that is already filtered."
   ]
  },
  {
   "cell_type": "markdown",
   "id": "72501e45",
   "metadata": {},
   "source": [
    "# Checking even numbers using filter function"
   ]
  },
  {
   "cell_type": "code",
   "execution_count": 4,
   "id": "3637e94a",
   "metadata": {},
   "outputs": [
    {
     "data": {
      "text/plain": [
       "[2, 4, 6]"
      ]
     },
     "execution_count": 4,
     "metadata": {},
     "output_type": "execute_result"
    }
   ],
   "source": [
    "def check_even(number):\n",
    "    return number%2 == 0\n",
    "\n",
    "my_nums = [1,2,3,4,5,6]\n",
    "\n",
    "list(filter(check_even,my_nums))"
   ]
  }
 ],
 "metadata": {
  "kernelspec": {
   "display_name": "Python 3 (ipykernel)",
   "language": "python",
   "name": "python3"
  },
  "language_info": {
   "codemirror_mode": {
    "name": "ipython",
    "version": 3
   },
   "file_extension": ".py",
   "mimetype": "text/x-python",
   "name": "python",
   "nbconvert_exporter": "python",
   "pygments_lexer": "ipython3",
   "version": "3.9.7"
  }
 },
 "nbformat": 4,
 "nbformat_minor": 5
}
