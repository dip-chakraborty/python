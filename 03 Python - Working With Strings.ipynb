{
 "cells": [
  {
   "cell_type": "code",
   "execution_count": 1,
   "id": "e76c7fd8",
   "metadata": {},
   "outputs": [],
   "source": [
    "SourceString01 = 'This is the beginning'\n",
    "SourceString02 = ' of working with strings'\n",
    "SourceString03 = ' in Jupyter Notebook'"
   ]
  },
  {
   "cell_type": "code",
   "execution_count": 2,
   "id": "dace5ea3",
   "metadata": {},
   "outputs": [
    {
     "name": "stdout",
     "output_type": "stream",
     "text": [
      "This is the beginning of working with strings in Jupyter Notebook\n"
     ]
    }
   ],
   "source": [
    "# CONCATENATING STRINGS (use '+' sign)\n",
    "Concatenated_Output_String = SourceString01 + SourceString02 + SourceString03\n",
    "print(Concatenated_Output_String)"
   ]
  },
  {
   "cell_type": "code",
   "execution_count": 3,
   "id": "e4d35c87",
   "metadata": {},
   "outputs": [
    {
     "name": "stdout",
     "output_type": "stream",
     "text": [
      "65\n"
     ]
    }
   ],
   "source": [
    "# LENGTH OF A STRING (use 'len' function)\n",
    "print(len(Concatenated_Output_String))"
   ]
  },
  {
   "cell_type": "code",
   "execution_count": 4,
   "id": "99d89665",
   "metadata": {},
   "outputs": [
    {
     "data": {
      "text/plain": [
       "'THIS IS THE BEGINNING OF WORKING WITH STRINGS IN JUPYTER NOTEBOOK'"
      ]
     },
     "execution_count": 4,
     "metadata": {},
     "output_type": "execute_result"
    }
   ],
   "source": [
    "# DISPLAYING UPPER CASE (all letters in uppercase)\n",
    "Concatenated_Output_String.upper()"
   ]
  },
  {
   "cell_type": "code",
   "execution_count": 5,
   "id": "7f4997da",
   "metadata": {},
   "outputs": [
    {
     "data": {
      "text/plain": [
       "'this is the beginning of working with strings in jupyter notebook'"
      ]
     },
     "execution_count": 5,
     "metadata": {},
     "output_type": "execute_result"
    }
   ],
   "source": [
    "# DISPLAYING LOWER CASE (all letters in lowercase)\n",
    "Concatenated_Output_String.lower()"
   ]
  },
  {
   "cell_type": "code",
   "execution_count": 6,
   "id": "2ec71ebb",
   "metadata": {},
   "outputs": [
    {
     "data": {
      "text/plain": [
       "'This Is The Beginning Of Working With Strings In Jupyter Notebook'"
      ]
     },
     "execution_count": 6,
     "metadata": {},
     "output_type": "execute_result"
    }
   ],
   "source": [
    "# DISPLAYING TITLE CASE (first letters of each word in uppercase)\n",
    "Concatenated_Output_String.title()"
   ]
  },
  {
   "cell_type": "code",
   "execution_count": 7,
   "id": "9fb9e1f9",
   "metadata": {},
   "outputs": [
    {
     "data": {
      "text/plain": [
       "'tHIS IS THE BEGINNING OF WORKING WITH STRINGS IN jUPYTER nOTEBOOK'"
      ]
     },
     "execution_count": 7,
     "metadata": {},
     "output_type": "execute_result"
    }
   ],
   "source": [
    "# SWAP UPPER VS LOWER CASE (swap uppercase and lowercase)\n",
    "Concatenated_Output_String.swapcase()"
   ]
  },
  {
   "cell_type": "code",
   "execution_count": 8,
   "id": "94c0488c",
   "metadata": {
    "scrolled": true
   },
   "outputs": [
    {
     "data": {
      "text/plain": [
       "['This',\n",
       " 'is',\n",
       " 'the',\n",
       " 'beginning',\n",
       " 'of',\n",
       " 'working',\n",
       " 'with',\n",
       " 'strings',\n",
       " 'in',\n",
       " 'Jupyter',\n",
       " 'Notebook']"
      ]
     },
     "execution_count": 8,
     "metadata": {},
     "output_type": "execute_result"
    }
   ],
   "source": [
    "# SPLITTING EACH WORDS -- if no arguments given, split by whitespace\n",
    "Concatenated_Output_String.split()"
   ]
  },
  {
   "cell_type": "code",
   "execution_count": 18,
   "id": "9cde48ee",
   "metadata": {},
   "outputs": [
    {
     "data": {
      "text/plain": [
       "['This', 'is', 'the', 'beginning']"
      ]
     },
     "execution_count": 18,
     "metadata": {},
     "output_type": "execute_result"
    }
   ],
   "source": [
    "#SPLIT A STRING USING DELIMETER - example using whitespace delimiter -> returns a LIST\n",
    "SourceString01.split(' ')"
   ]
  },
  {
   "cell_type": "code",
   "execution_count": 9,
   "id": "c6c557e7",
   "metadata": {},
   "outputs": [
    {
     "name": "stdout",
     "output_type": "stream",
     "text": [
      "This is the beginning\n",
      " of working with strings\n",
      " in Jupyter Notebook\n"
     ]
    }
   ],
   "source": [
    "# PRINTING IN NEW LINE 01\n",
    "print(SourceString01 + '\\n' + SourceString02 + '\\n' + SourceString03)"
   ]
  },
  {
   "cell_type": "code",
   "execution_count": 10,
   "id": "71e340f7",
   "metadata": {},
   "outputs": [
    {
     "name": "stdout",
     "output_type": "stream",
     "text": [
      "This is the beginning\n",
      " of working with strings\n",
      " in Jupyter Notebook\n"
     ]
    }
   ],
   "source": [
    "# PRINTING IN NEW LINE 02\n",
    "print('This is the beginning\\n of working with strings\\n in Jupyter Notebook')"
   ]
  },
  {
   "cell_type": "code",
   "execution_count": 11,
   "id": "5c070d8d",
   "metadata": {},
   "outputs": [
    {
     "name": "stdout",
     "output_type": "stream",
     "text": [
      "This is the beginning\t of working with strings\t in Jupyter Notebook\n"
     ]
    }
   ],
   "source": [
    "# TAB SEPARATION\n",
    "print('This is the beginning\\t of working with strings\\t in Jupyter Notebook')"
   ]
  },
  {
   "cell_type": "code",
   "execution_count": 12,
   "id": "e24119dd",
   "metadata": {},
   "outputs": [
    {
     "data": {
      "text/plain": [
       "'of working with strings'"
      ]
     },
     "execution_count": 12,
     "metadata": {},
     "output_type": "execute_result"
    }
   ],
   "source": [
    "#STIP A STRING (REMOVES WHITE SPACE from ' of working with strings')\n",
    "SourceString02.strip()"
   ]
  },
  {
   "cell_type": "code",
   "execution_count": 13,
   "id": "43e6d01e",
   "metadata": {},
   "outputs": [
    {
     "data": {
      "text/plain": [
       "12"
      ]
     },
     "execution_count": 13,
     "metadata": {},
     "output_type": "execute_result"
    }
   ],
   "source": [
    "#FIND A SET OF CHARACTERS - if found, returns position of the first character, else returns '-1' if not found)\n",
    "SourceString01.find('beginning')"
   ]
  },
  {
   "cell_type": "code",
   "execution_count": 14,
   "id": "124f3ecf",
   "metadata": {},
   "outputs": [
    {
     "data": {
      "text/plain": [
       "-1"
      ]
     },
     "execution_count": 14,
     "metadata": {},
     "output_type": "execute_result"
    }
   ],
   "source": [
    "#FIND A SET OF CHARACTERS - if found, returns position of the first character, else returns '-1' if not found)\n",
    "SourceString01.find('awesome')"
   ]
  },
  {
   "cell_type": "code",
   "execution_count": 15,
   "id": "aa2d7b28",
   "metadata": {},
   "outputs": [
    {
     "data": {
      "text/plain": [
       "True"
      ]
     },
     "execution_count": 15,
     "metadata": {},
     "output_type": "execute_result"
    }
   ],
   "source": [
    "#CHECKING BOOLEAN EXPRESSION OF FIRST LETTER - results in True/Falseb\n",
    "SourceString01.startswith('T')"
   ]
  },
  {
   "cell_type": "code",
   "execution_count": 16,
   "id": "425f3a6e",
   "metadata": {},
   "outputs": [
    {
     "data": {
      "text/plain": [
       "False"
      ]
     },
     "execution_count": 16,
     "metadata": {},
     "output_type": "execute_result"
    }
   ],
   "source": [
    "#CHECKING BOOLEAN EXPRESSION OF LAST LETTER - results in True/Falseb\n",
    "SourceString01.endswith('x')"
   ]
  },
  {
   "cell_type": "code",
   "execution_count": 17,
   "id": "5942b31f",
   "metadata": {},
   "outputs": [
    {
     "data": {
      "text/plain": [
       "'It is the beginning'"
      ]
     },
     "execution_count": 17,
     "metadata": {},
     "output_type": "execute_result"
    }
   ],
   "source": [
    "#REPLACING A STRING VALUE - syntax -> string.replace('old','new')\n",
    "Replaced_SourceString01=SourceString01.replace('This','It')\n",
    "Replaced_SourceString01"
   ]
  },
  {
   "cell_type": "code",
   "execution_count": 19,
   "id": "7f3fccd2",
   "metadata": {},
   "outputs": [
    {
     "data": {
      "text/plain": [
       "('This', ' ', 'is the beginning')"
      ]
     },
     "execution_count": 19,
     "metadata": {},
     "output_type": "execute_result"
    }
   ],
   "source": [
    "#PARTITION A STRING USING DELIMETER APPLICABLE FOR THE FIRST OCCURRENCE ONLY - example using whitespace delimiter -> returns a TUPLE\n",
    "SourceString01.partition(' ')"
   ]
  },
  {
   "cell_type": "code",
   "execution_count": 20,
   "id": "0f5e886e",
   "metadata": {},
   "outputs": [
    {
     "data": {
      "text/plain": [
       "'This is the beginning of a new era'"
      ]
     },
     "execution_count": 20,
     "metadata": {},
     "output_type": "execute_result"
    }
   ],
   "source": [
    "#JOINNING A STRING WITH SOME RANDOM VALUES - syntax -> 'joinning delimiter'.join([list of strings]) \n",
    "' '.join([SourceString01,'of a new era'])"
   ]
  },
  {
   "cell_type": "code",
   "execution_count": 21,
   "id": "3e76d1f0",
   "metadata": {},
   "outputs": [
    {
     "data": {
      "text/plain": [
       "[(0, 'B'), (1, 'O'), (2, 'Y')]"
      ]
     },
     "execution_count": 21,
     "metadata": {},
     "output_type": "execute_result"
    }
   ],
   "source": [
    "# ENUMERATE - RETURNS POSITION AND ALL CORRESPONDING VALUES IN NESTED LIST AND TUPLE FORMAT\n",
    "list(enumerate('BOY'))"
   ]
  },
  {
   "cell_type": "markdown",
   "id": "cd1f483f",
   "metadata": {},
   "source": [
    "### STRING INDEXING - SourceString01 = 'This is the beginning'\n",
    "\n",
    "### indexing formula - [x:y:z]\n",
    "### x = starting index, default 0\n",
    "### y = length, default max length of string\n",
    "### z = step size, default 1"
   ]
  },
  {
   "cell_type": "code",
   "execution_count": 22,
   "id": "0931624c",
   "metadata": {},
   "outputs": [
    {
     "data": {
      "text/plain": [
       "'T'"
      ]
     },
     "execution_count": 22,
     "metadata": {},
     "output_type": "execute_result"
    }
   ],
   "source": [
    "# FINDING FIRST LETTER OF A STRING (index 0 = first position)\n",
    "SourceString01[0]"
   ]
  },
  {
   "cell_type": "code",
   "execution_count": 23,
   "id": "1f5e01a6",
   "metadata": {},
   "outputs": [
    {
     "data": {
      "text/plain": [
       "'This is the beginning'"
      ]
     },
     "execution_count": 23,
     "metadata": {},
     "output_type": "execute_result"
    }
   ],
   "source": [
    "# PRINTING FULL STRING FROM BEGINNING 01\n",
    "SourceString01[::]"
   ]
  },
  {
   "cell_type": "code",
   "execution_count": 24,
   "id": "7f920d4f",
   "metadata": {},
   "outputs": [
    {
     "data": {
      "text/plain": [
       "'This is the beginning'"
      ]
     },
     "execution_count": 24,
     "metadata": {},
     "output_type": "execute_result"
    }
   ],
   "source": [
    "# PRINTING FULL STRING FROM BEGINNING 02\n",
    "SourceString01[0::]"
   ]
  },
  {
   "cell_type": "code",
   "execution_count": 25,
   "id": "1418c6cc",
   "metadata": {},
   "outputs": [
    {
     "data": {
      "text/plain": [
       "'gninnigeb eht si sihT'"
      ]
     },
     "execution_count": 25,
     "metadata": {},
     "output_type": "execute_result"
    }
   ],
   "source": [
    "# PRINTING FULL STRING FROM END / REVERSING A STRING (here '-1' is the step size)\n",
    "SourceString01[::-1]"
   ]
  },
  {
   "cell_type": "code",
   "execution_count": 26,
   "id": "dae4cba0",
   "metadata": {},
   "outputs": [
    {
     "data": {
      "text/plain": [
       "'gingbets iT'"
      ]
     },
     "execution_count": 26,
     "metadata": {},
     "output_type": "execute_result"
    }
   ],
   "source": [
    "# REVERSING STRING WITH 1 ALTERNATE LETTER (here '-2' is the step size as it will skip 1 and look for next predecessor)\n",
    "SourceString01[::-2]"
   ]
  },
  {
   "cell_type": "code",
   "execution_count": 27,
   "id": "a0fc4625",
   "metadata": {},
   "outputs": [
    {
     "data": {
      "text/plain": [
       "'This i'"
      ]
     },
     "execution_count": 27,
     "metadata": {},
     "output_type": "execute_result"
    }
   ],
   "source": [
    "# PRINTING FIRST 7 LETTERS\n",
    "SourceString01[0:6]"
   ]
  },
  {
   "cell_type": "code",
   "execution_count": 28,
   "id": "d5c6f213",
   "metadata": {},
   "outputs": [
    {
     "data": {
      "text/plain": [
       "'Ti s'"
      ]
     },
     "execution_count": 28,
     "metadata": {},
     "output_type": "execute_result"
    }
   ],
   "source": [
    "# PRINTING FIRST 4 LETTERS WITH 1 ALTERNATE (here '2' is the step size as it will skip 1 and look for next successor)\n",
    "SourceString01[0:8:2]"
   ]
  },
  {
   "cell_type": "code",
   "execution_count": 29,
   "id": "322d424b",
   "metadata": {},
   "outputs": [
    {
     "data": {
      "text/plain": [
       "'sihT'"
      ]
     },
     "execution_count": 29,
     "metadata": {},
     "output_type": "execute_result"
    }
   ],
   "source": [
    "# PRINTING STRING FROM A SPECIFIC INDEX TO REVERSE\n",
    "SourceString01[3::-1]"
   ]
  },
  {
   "cell_type": "markdown",
   "id": "09776408",
   "metadata": {},
   "source": [
    "### STRING FORMATTING - EASY METHOD"
   ]
  },
  {
   "cell_type": "code",
   "execution_count": 31,
   "id": "0820b25b",
   "metadata": {},
   "outputs": [
    {
     "name": "stdout",
     "output_type": "stream",
     "text": [
      "He is approx 30 miles away\n"
     ]
    }
   ],
   "source": [
    "# FORMAT WITH INTEGER VALUES\n",
    "print(\"He is approx %d miles away\" %(30))"
   ]
  },
  {
   "cell_type": "code",
   "execution_count": 32,
   "id": "e23d589f",
   "metadata": {},
   "outputs": [
    {
     "name": "stdout",
     "output_type": "stream",
     "text": [
      "He lives in USA\n"
     ]
    }
   ],
   "source": [
    "# FORMAT WITH STRING VALUES\n",
    "print(\"He lives in %s\" %('USA'))"
   ]
  },
  {
   "cell_type": "code",
   "execution_count": 33,
   "id": "622d3572",
   "metadata": {},
   "outputs": [
    {
     "name": "stdout",
     "output_type": "stream",
     "text": [
      "Value of pie is 3.140000\n"
     ]
    }
   ],
   "source": [
    "#FORMAT WITH FLOAT VALUES - with %f post decimal zeros also get printed\n",
    "print(\"Value of pie is %f\" %(3.14))"
   ]
  },
  {
   "cell_type": "code",
   "execution_count": 34,
   "id": "e930a731",
   "metadata": {},
   "outputs": [
    {
     "name": "stdout",
     "output_type": "stream",
     "text": [
      "Value of pie is 3.14\n"
     ]
    }
   ],
   "source": [
    "#FORMAT WITH FLOAT VALUES - with %g post decimal last zeros does not get printed\n",
    "print(\"Value of pie is %g\" %(3.14))"
   ]
  },
  {
   "cell_type": "markdown",
   "id": "82d4a8d8",
   "metadata": {},
   "source": [
    "### STRING FORMATTING - DEFAULT POSITIONAL METHOD"
   ]
  },
  {
   "cell_type": "code",
   "execution_count": 36,
   "id": "709a2b2d",
   "metadata": {},
   "outputs": [
    {
     "data": {
      "text/plain": [
       "'He is John and he is from USA. He is 5 years old'"
      ]
     },
     "execution_count": 36,
     "metadata": {},
     "output_type": "execute_result"
    }
   ],
   "source": [
    "#REPLACE THE '{}' WITH RESPECTIVE SEQUENTIAL VALUES\n",
    "'He is {} and he is from {}. He is {} years old'.format('John','USA',5)"
   ]
  },
  {
   "cell_type": "markdown",
   "id": "1b6e69bf",
   "metadata": {},
   "source": [
    "### STRING FORMATTING - CUSTOM POSITIONAL METHOD"
   ]
  },
  {
   "cell_type": "code",
   "execution_count": 38,
   "id": "c379a0df",
   "metadata": {},
   "outputs": [
    {
     "data": {
      "text/plain": [
       "'He is Jack and he is from Europe. He is 10 years old'"
      ]
     },
     "execution_count": 38,
     "metadata": {},
     "output_type": "execute_result"
    }
   ],
   "source": [
    "#REPLACE THE '{n}' WITH RESPECTIVE CUSTOM VALUES - should be format tupple word index values like 0, 1, 2 etc.\n",
    "'He is {1} and he is from {2}. He is {0} years old'.format(10,'Jack','Europe')"
   ]
  },
  {
   "cell_type": "markdown",
   "id": "3cb5b121",
   "metadata": {},
   "source": [
    "### STRING FORMATTING - CUSTOM FLAG METHOD"
   ]
  },
  {
   "cell_type": "code",
   "execution_count": 40,
   "id": "8a508717",
   "metadata": {},
   "outputs": [
    {
     "data": {
      "text/plain": [
       "'He is Rob and he is from Germany. He is 20 years old'"
      ]
     },
     "execution_count": 40,
     "metadata": {},
     "output_type": "execute_result"
    }
   ],
   "source": [
    "#REPLACE THE '{n}' WITH RESPECTIVE CUSTOM FLAG VALUES - here name, place, age flags used\n",
    "'He is {name} and he is from {place}. He is {age} years old'.format(age=20,name='Rob',place='Germany')"
   ]
  }
 ],
 "metadata": {
  "kernelspec": {
   "display_name": "Python 3 (ipykernel)",
   "language": "python",
   "name": "python3"
  },
  "language_info": {
   "codemirror_mode": {
    "name": "ipython",
    "version": 3
   },
   "file_extension": ".py",
   "mimetype": "text/x-python",
   "name": "python",
   "nbconvert_exporter": "python",
   "pygments_lexer": "ipython3",
   "version": "3.9.7"
  }
 },
 "nbformat": 4,
 "nbformat_minor": 5
}
