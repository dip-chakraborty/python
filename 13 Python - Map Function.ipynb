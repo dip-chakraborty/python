{
 "cells": [
  {
   "cell_type": "markdown",
   "id": "c9068648",
   "metadata": {},
   "source": [
    "## python map function takes two arguments - executable function and the iterable object"
   ]
  },
  {
   "cell_type": "markdown",
   "id": "08d34ec9",
   "metadata": {},
   "source": [
    "## MAP Function - iterating loops annonymusly"
   ]
  },
  {
   "cell_type": "code",
   "execution_count": 4,
   "id": "15c5ec49",
   "metadata": {},
   "outputs": [
    {
     "name": "stdout",
     "output_type": "stream",
     "text": [
      "1\n",
      "4\n",
      "9\n",
      "16\n",
      "25\n"
     ]
    },
    {
     "data": {
      "text/plain": [
       "[1, 4, 9, 16, 25]"
      ]
     },
     "execution_count": 4,
     "metadata": {},
     "output_type": "execute_result"
    }
   ],
   "source": [
    "def square_func(num):\n",
    "    return num**2\n",
    "\n",
    "my_numbers = [1,2,3,4,5]\n",
    "\n",
    "for items in map(square_func, my_numbers):\n",
    "    print(items)\n",
    "    \n",
    "list(map(square_func, my_numbers))"
   ]
  }
 ],
 "metadata": {
  "kernelspec": {
   "display_name": "Python 3 (ipykernel)",
   "language": "python",
   "name": "python3"
  },
  "language_info": {
   "codemirror_mode": {
    "name": "ipython",
    "version": 3
   },
   "file_extension": ".py",
   "mimetype": "text/x-python",
   "name": "python",
   "nbconvert_exporter": "python",
   "pygments_lexer": "ipython3",
   "version": "3.9.7"
  }
 },
 "nbformat": 4,
 "nbformat_minor": 5
}
