{
 "cells": [
  {
   "cell_type": "markdown",
   "id": "db0676a2",
   "metadata": {},
   "source": [
    "### Hello World function"
   ]
  },
  {
   "cell_type": "code",
   "execution_count": 2,
   "id": "05da3c8d",
   "metadata": {
    "scrolled": true
   },
   "outputs": [
    {
     "name": "stdout",
     "output_type": "stream",
     "text": [
      "Hello World!\n"
     ]
    }
   ],
   "source": [
    "def say_hello():\n",
    "    print('Hello World!')\n",
    "    return\n",
    "\n",
    "say_hello()"
   ]
  },
  {
   "cell_type": "markdown",
   "id": "c36edcd5",
   "metadata": {},
   "source": [
    "### Saying hi! to your name - using string format"
   ]
  },
  {
   "cell_type": "code",
   "execution_count": 7,
   "id": "60f9334a",
   "metadata": {},
   "outputs": [
    {
     "name": "stdout",
     "output_type": "stream",
     "text": [
      "hi Josh\n"
     ]
    }
   ],
   "source": [
    "def say_hi(name):\n",
    "    print('hi {}'.format(name))\n",
    "    return\n",
    "\n",
    "say_hi('Josh')"
   ]
  },
  {
   "cell_type": "markdown",
   "id": "b7b4f87e",
   "metadata": {},
   "source": [
    "### Checking even/odd number using function"
   ]
  },
  {
   "cell_type": "code",
   "execution_count": 9,
   "id": "51b4ee1e",
   "metadata": {
    "scrolled": true
   },
   "outputs": [
    {
     "data": {
      "text/plain": [
       "True"
      ]
     },
     "execution_count": 9,
     "metadata": {},
     "output_type": "execute_result"
    }
   ],
   "source": [
    "def even_check(number):\n",
    "    return number % 2 == 0\n",
    "\n",
    "even_check(20)"
   ]
  },
  {
   "cell_type": "markdown",
   "id": "88da2d4a",
   "metadata": {},
   "source": [
    "### Check multiple numbers if even through a function - Boolean Result"
   ]
  },
  {
   "cell_type": "code",
   "execution_count": 23,
   "id": "bf968dd1",
   "metadata": {},
   "outputs": [
    {
     "name": "stdout",
     "output_type": "stream",
     "text": [
      "2 is even\n",
      "5 is odd\n"
     ]
    }
   ],
   "source": [
    "def check_even_list(num_list):\n",
    "    for numbers in num_list:\n",
    "        if numbers % 2 == 0:\n",
    "            print(str(numbers), 'is even')\n",
    "        else:\n",
    "            print(str(numbers), 'is odd')\n",
    "    return\n",
    "check_even_list([2, 5])            "
   ]
  },
  {
   "cell_type": "markdown",
   "id": "41d88322",
   "metadata": {},
   "source": [
    "### Returning multiple even numbers within a list through a function"
   ]
  },
  {
   "cell_type": "code",
   "execution_count": 25,
   "id": "cdd66981",
   "metadata": {},
   "outputs": [
    {
     "data": {
      "text/plain": [
       "[2, 4]"
      ]
     },
     "execution_count": 25,
     "metadata": {},
     "output_type": "execute_result"
    }
   ],
   "source": [
    "def find_even_list(num_list):\n",
    "    \n",
    "    # placeholder variables\n",
    "    even_numbers = []\n",
    "    \n",
    "    # logical expression\n",
    "    for numbers in num_list:\n",
    "        if numbers % 2 == 0:\n",
    "            even_numbers.append(numbers)\n",
    "        else:\n",
    "            pass\n",
    "    return even_numbers\n",
    "        \n",
    "find_even_list([5,2,4,1,7])  "
   ]
  },
  {
   "cell_type": "markdown",
   "id": "6a3f21b1",
   "metadata": {},
   "source": [
    "### Tuple unpacking using function - finding employee who worked most hours"
   ]
  },
  {
   "cell_type": "code",
   "execution_count": 26,
   "id": "fa1ae591",
   "metadata": {},
   "outputs": [
    {
     "data": {
      "text/plain": [
       "('Cathy', 240)"
      ]
     },
     "execution_count": 26,
     "metadata": {},
     "output_type": "execute_result"
    }
   ],
   "source": [
    "work_hours = [('John', 200), ('Cathy', 240), ('Abby', 230)]\n",
    "\n",
    "def emp_check(work_hours):\n",
    "    \n",
    "    #palceholder variables\n",
    "    max_hours = 0\n",
    "    best_emp = ''\n",
    "    \n",
    "    for emp, hours in work_hours:\n",
    "        if hours > max_hours:\n",
    "            max_hours = hours\n",
    "            best_emp = emp\n",
    "        else:\n",
    "            pass\n",
    "    \n",
    "    # return\n",
    "    return (best_emp, max_hours)\n",
    "\n",
    "emp_check(work_hours)"
   ]
  },
  {
   "cell_type": "markdown",
   "id": "1707f271",
   "metadata": {},
   "source": [
    "### Tuple unpacking using function"
   ]
  },
  {
   "cell_type": "code",
   "execution_count": 27,
   "id": "f370afa0",
   "metadata": {},
   "outputs": [
    {
     "name": "stdout",
     "output_type": "stream",
     "text": [
      "[4, 2, 6, 9, 7, 1, 5, 3, 8]\n"
     ]
    }
   ],
   "source": [
    "list_prior_shuffle = [1,2,3,4,5,6,7,8,9]\n",
    "\n",
    "from random import shuffle\n",
    "\n",
    "def shuffle_list(list_to_shuffle):\n",
    "    shuffle(list_to_shuffle)\n",
    "    return list_to_shuffle\n",
    "\n",
    "shuffle_result = shuffle_list(list_prior_shuffle)\n",
    "\n",
    "print(shuffle_result)"
   ]
  },
  {
   "cell_type": "markdown",
   "id": "f05eee16",
   "metadata": {},
   "source": [
    "### Finding the ball in court game"
   ]
  },
  {
   "cell_type": "code",
   "execution_count": 33,
   "id": "cc5d44bb",
   "metadata": {},
   "outputs": [
    {
     "name": "stdout",
     "output_type": "stream",
     "text": [
      "['O', '', '']\n",
      "Please pick a number within 0/1/2: 0\n",
      "Correct Guess!\n"
     ]
    }
   ],
   "source": [
    "# IMPORT FUNCTIONS\n",
    "from random import shuffle\n",
    "\n",
    "# SHUFFLE FUNCTION OF BALL LIST\n",
    "def shuffle_list(game_list):\n",
    "    shuffle(game_list)\n",
    "    return game_list\n",
    "\n",
    "# TAKE PLAYER GUESS\n",
    "def player_guess():\n",
    "    guess = ''\n",
    "    while guess not in ['0', '1', '2']:\n",
    "        guess = input('Please pick a number within 0/1/2: ')\n",
    "    return int(guess)\n",
    "\n",
    "\n",
    "# CHECK PLAYER GUESS AFTER SHUFFLE\n",
    "def check_guess(shuffled_game_list, guess):\n",
    "    if shuffled_game_list[guess] == 'O':\n",
    "        print('Correct Guess!')\n",
    "    else:\n",
    "        print('Wrong Guess',shuffled_game_list)\n",
    "        \n",
    "\n",
    "# INITIALIZE THE BALL LIST\n",
    "game_list = ['','O','']\n",
    "shuffled_game_list = shuffle_list(game_list)\n",
    "print(shuffled_game_list)\n",
    "guess = player_guess()\n",
    "check_guess(shuffled_game_list, guess)"
   ]
  }
 ],
 "metadata": {
  "kernelspec": {
   "display_name": "Python 3 (ipykernel)",
   "language": "python",
   "name": "python3"
  },
  "language_info": {
   "codemirror_mode": {
    "name": "ipython",
    "version": 3
   },
   "file_extension": ".py",
   "mimetype": "text/x-python",
   "name": "python",
   "nbconvert_exporter": "python",
   "pygments_lexer": "ipython3",
   "version": "3.9.7"
  }
 },
 "nbformat": 4,
 "nbformat_minor": 5
}
