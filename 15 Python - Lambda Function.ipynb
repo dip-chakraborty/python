{
 "cells": [
  {
   "cell_type": "markdown",
   "id": "e14c3510",
   "metadata": {},
   "source": [
    "### Step by step conversion to Lambda Expression"
   ]
  },
  {
   "cell_type": "code",
   "execution_count": 2,
   "id": "bbdc5f73",
   "metadata": {},
   "outputs": [
    {
     "data": {
      "text/plain": [
       "9"
      ]
     },
     "execution_count": 2,
     "metadata": {},
     "output_type": "execute_result"
    }
   ],
   "source": [
    "def square(num):\n",
    "    return num**2\n",
    "\n",
    "square(3)"
   ]
  },
  {
   "cell_type": "code",
   "execution_count": 3,
   "id": "023982df",
   "metadata": {},
   "outputs": [
    {
     "data": {
      "text/plain": [
       "16"
      ]
     },
     "execution_count": 3,
     "metadata": {},
     "output_type": "execute_result"
    }
   ],
   "source": [
    "def square(num): return num**2\n",
    "\n",
    "square(4)"
   ]
  },
  {
   "cell_type": "code",
   "execution_count": 4,
   "id": "37f0bbc9",
   "metadata": {},
   "outputs": [
    {
     "data": {
      "text/plain": [
       "25"
      ]
     },
     "execution_count": 4,
     "metadata": {},
     "output_type": "execute_result"
    }
   ],
   "source": [
    "square = lambda num: num**2\n",
    "square(5)"
   ]
  },
  {
   "cell_type": "markdown",
   "id": "02785803",
   "metadata": {},
   "source": [
    "### Lambda & MAP Conjunction"
   ]
  },
  {
   "cell_type": "code",
   "execution_count": 6,
   "id": "584841d7",
   "metadata": {},
   "outputs": [
    {
     "data": {
      "text/plain": [
       "[1, 4, 9, 16, 25]"
      ]
     },
     "execution_count": 6,
     "metadata": {},
     "output_type": "execute_result"
    }
   ],
   "source": [
    "list(map(lambda num:num**2, [1,2,3,4,5]))"
   ]
  },
  {
   "cell_type": "markdown",
   "id": "0a0d7de0",
   "metadata": {},
   "source": [
    "### Lambda & Filter Conjunction"
   ]
  },
  {
   "cell_type": "code",
   "execution_count": 8,
   "id": "1c420741",
   "metadata": {},
   "outputs": [
    {
     "data": {
      "text/plain": [
       "[2, 4]"
      ]
     },
     "execution_count": 8,
     "metadata": {},
     "output_type": "execute_result"
    }
   ],
   "source": [
    "list(filter(lambda chk_even:chk_even%2==0,[1,2,3,4,5]))"
   ]
  }
 ],
 "metadata": {
  "kernelspec": {
   "display_name": "Python 3 (ipykernel)",
   "language": "python",
   "name": "python3"
  },
  "language_info": {
   "codemirror_mode": {
    "name": "ipython",
    "version": 3
   },
   "file_extension": ".py",
   "mimetype": "text/x-python",
   "name": "python",
   "nbconvert_exporter": "python",
   "pygments_lexer": "ipython3",
   "version": "3.9.7"
  }
 },
 "nbformat": 4,
 "nbformat_minor": 5
}
