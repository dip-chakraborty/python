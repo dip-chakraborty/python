{
 "cells": [
  {
   "cell_type": "markdown",
   "id": "e8c10b71",
   "metadata": {},
   "source": [
    "## If-Else-Elif Loop : example with finding higest of 3 unique numbers"
   ]
  },
  {
   "cell_type": "code",
   "execution_count": 5,
   "id": "fe4b9013",
   "metadata": {
    "scrolled": true
   },
   "outputs": [
    {
     "name": "stdout",
     "output_type": "stream",
     "text": [
      "highest number is: 22022\n"
     ]
    }
   ],
   "source": [
    "first_number = 221\n",
    "second_number = 2222\n",
    "third_number = 22022\n",
    "\n",
    "if (first_number > second_number) & (first_number > third_number):\n",
    "    print('highest number is: ' +  str(first_number))\n",
    "elif (second_number > first_number) & (second_number > third_number):\n",
    "    print('highest number is: ' +  str(second_number))\n",
    "else:\n",
    "    print('highest number is: ' +  str(third_number))"
   ]
  },
  {
   "cell_type": "markdown",
   "id": "2e6939c4",
   "metadata": {},
   "source": [
    "## FOR Loop : example with summation of first 10 integers"
   ]
  },
  {
   "cell_type": "code",
   "execution_count": 7,
   "id": "1bb10667",
   "metadata": {},
   "outputs": [
    {
     "name": "stdout",
     "output_type": "stream",
     "text": [
      "55\n"
     ]
    }
   ],
   "source": [
    "sum = 0\n",
    "for num in range(1, 11):\n",
    "    sum = sum + num\n",
    "\n",
    "print(sum)"
   ]
  },
  {
   "cell_type": "markdown",
   "id": "f6306fbc",
   "metadata": {},
   "source": [
    "## FOR Loop : example with 'List' for addition of few numbers"
   ]
  },
  {
   "cell_type": "code",
   "execution_count": 10,
   "id": "58798e4a",
   "metadata": {},
   "outputs": [
    {
     "name": "stdout",
     "output_type": "stream",
     "text": [
      "48\n"
     ]
    }
   ],
   "source": [
    "number_list = [6, 5, 3, 8, 4, 2, 5, 4, 11]\n",
    "summation_list = 0\n",
    "for numbers in number_list:\n",
    "    summation_list = summation_list + numbers\n",
    "print(summation_list)"
   ]
  },
  {
   "cell_type": "markdown",
   "id": "cbafcff4",
   "metadata": {},
   "source": [
    "## WHILE Loop : Finding summation of first 10 numbers"
   ]
  },
  {
   "cell_type": "code",
   "execution_count": 12,
   "id": "5c1af2e6",
   "metadata": {},
   "outputs": [
    {
     "name": "stdout",
     "output_type": "stream",
     "text": [
      "55\n"
     ]
    }
   ],
   "source": [
    "counter = 1\n",
    "summation_number = 0\n",
    "while counter <= 10:\n",
    "    summation_number=summation_number+counter\n",
    "    counter+=1\n",
    "print(summation_number)"
   ]
  },
  {
   "cell_type": "markdown",
   "id": "22b5ef21",
   "metadata": {},
   "source": [
    "## Breaking WHILE Loop using 'ELSE' statement"
   ]
  },
  {
   "cell_type": "code",
   "execution_count": 14,
   "id": "d0d5d088",
   "metadata": {},
   "outputs": [
    {
     "name": "stdout",
     "output_type": "stream",
     "text": [
      "Inside loop\n",
      "Inside loop\n",
      "Inside loop\n",
      "Inside else\n"
     ]
    }
   ],
   "source": [
    "counter = 0\n",
    "\n",
    "while counter < 3:\n",
    "    print(\"Inside loop\")\n",
    "    counter = counter + 1\n",
    "else:\n",
    "    print(\"Inside else\")"
   ]
  },
  {
   "cell_type": "markdown",
   "id": "1a4bd2c0",
   "metadata": {},
   "source": [
    "## Breaking WHILE Loop using 'BREAK' statement"
   ]
  },
  {
   "cell_type": "code",
   "execution_count": 16,
   "id": "7e37ef85",
   "metadata": {},
   "outputs": [
    {
     "name": "stdout",
     "output_type": "stream",
     "text": [
      "Inside loop\n",
      "Inside loop\n",
      "Inside loop\n"
     ]
    }
   ],
   "source": [
    "counter = 0\n",
    "\n",
    "while counter < 3:\n",
    "    print(\"Inside loop\")\n",
    "    counter = counter + 1\n",
    "    if counter >= 3:\n",
    "        break"
   ]
  }
 ],
 "metadata": {
  "kernelspec": {
   "display_name": "Python 3 (ipykernel)",
   "language": "python",
   "name": "python3"
  },
  "language_info": {
   "codemirror_mode": {
    "name": "ipython",
    "version": 3
   },
   "file_extension": ".py",
   "mimetype": "text/x-python",
   "name": "python",
   "nbconvert_exporter": "python",
   "pygments_lexer": "ipython3",
   "version": "3.9.7"
  }
 },
 "nbformat": 4,
 "nbformat_minor": 5
}
