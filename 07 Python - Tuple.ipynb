{
 "cells": [
  {
   "cell_type": "code",
   "execution_count": 1,
   "id": "08772af7",
   "metadata": {},
   "outputs": [
    {
     "data": {
      "text/plain": [
       "tuple"
      ]
     },
     "execution_count": 1,
     "metadata": {},
     "output_type": "execute_result"
    }
   ],
   "source": [
    "type((1, 1.1,'name', (3+4j), True, [1, 2, 3], {'a', 'b', 'c'}))"
   ]
  },
  {
   "cell_type": "code",
   "execution_count": 2,
   "id": "fcfd6f4b",
   "metadata": {},
   "outputs": [
    {
     "name": "stdout",
     "output_type": "stream",
     "text": [
      "(1, 1.1, 'name', (3+4j))\n"
     ]
    }
   ],
   "source": [
    "#type packing\n",
    "packing_tuple = 1, 1.1, 'name', (3+4j)\n",
    "print(packing_tuple)"
   ]
  },
  {
   "cell_type": "code",
   "execution_count": 3,
   "id": "747ccbfb",
   "metadata": {},
   "outputs": [
    {
     "name": "stdout",
     "output_type": "stream",
     "text": [
      "element A item \n",
      " element B item \n",
      " element C item\n"
     ]
    }
   ],
   "source": [
    "#tuple unpacking\n",
    "unpacking_tuple = ('element A item', 'element B item', 'element C item')\n",
    "element_A, element_B, element_C = unpacking_tuple\n",
    "print(element_A, '\\n', element_B, '\\n', element_C)"
   ]
  },
  {
   "cell_type": "code",
   "execution_count": 4,
   "id": "5004809f",
   "metadata": {},
   "outputs": [
    {
     "name": "stdout",
     "output_type": "stream",
     "text": [
      "t2e2\n"
     ]
    }
   ],
   "source": [
    "#Tuple Indexing (Similar to Regular Indexing)\n",
    "indexing_tuple = (('t1e1', 't1e2', 't1e3'),\n",
    "                  ('t2e1', 't2e2', 't2e3'),\n",
    "                  ('t3e1', 't3e2', 't3e3'))\n",
    "print(indexing_tuple[1][1])"
   ]
  },
  {
   "cell_type": "code",
   "execution_count": 6,
   "id": "c3826a98",
   "metadata": {
    "scrolled": true
   },
   "outputs": [
    {
     "name": "stdout",
     "output_type": "stream",
     "text": [
      "['t3e2.0', 't2e2.1']\n"
     ]
    }
   ],
   "source": [
    "#Tuple Indexing (Similar to Regular Indexing)\n",
    "indexing_tuple_list = (('t1e1', 't1e2', 't1e3'),\n",
    "                  ('t2e1', 't2e2', 't2e3'),\n",
    "                  ('t3e1', ['t3e2.0', 't2e2.1', 't3e2.2'], 't3e3'))\n",
    "print(indexing_tuple_list[2][1][0:2])"
   ]
  },
  {
   "cell_type": "code",
   "execution_count": 14,
   "id": "7105a150",
   "metadata": {},
   "outputs": [
    {
     "data": {
      "text/plain": [
       "0"
      ]
     },
     "execution_count": 14,
     "metadata": {},
     "output_type": "execute_result"
    }
   ],
   "source": [
    "#gives count of a argument value\n",
    "sample_tuple = (1, 1.1,'name', (3+4j), True, [1, 2, 3], {'a', 'b', 'c'})\n",
    "sample_tuple.count(False)"
   ]
  },
  {
   "cell_type": "code",
   "execution_count": 15,
   "id": "bfedd6cd",
   "metadata": {},
   "outputs": [
    {
     "data": {
      "text/plain": [
       "1"
      ]
     },
     "execution_count": 15,
     "metadata": {},
     "output_type": "execute_result"
    }
   ],
   "source": [
    "#gives count of a argument value\n",
    "sample_tuple = (1, 1.1,'name', (3+4j), True, [1, 2, 3], {'a', 'b', 'c'})\n",
    "sample_tuple.count('name')"
   ]
  },
  {
   "cell_type": "code",
   "execution_count": 17,
   "id": "9cdea6e8",
   "metadata": {
    "scrolled": true
   },
   "outputs": [
    {
     "data": {
      "text/plain": [
       "2"
      ]
     },
     "execution_count": 17,
     "metadata": {},
     "output_type": "execute_result"
    }
   ],
   "source": [
    "#gives index of a argument value\n",
    "sample_tuple = (1, 1.1,'name', (3+4j), True, [1, 2, 3], {'a', 'b', 'c'})\n",
    "sample_tuple.index('name')"
   ]
  },
  {
   "cell_type": "code",
   "execution_count": 20,
   "id": "9061800c",
   "metadata": {},
   "outputs": [
    {
     "data": {
      "text/plain": [
       "0"
      ]
     },
     "execution_count": 20,
     "metadata": {},
     "output_type": "execute_result"
    }
   ],
   "source": [
    "#gives index of a argument value, for multiple values, it only gives first occurence index\n",
    "sample_tuple = (1, 1.1,'name', (3+4j), True, [1, 2, 3], {'a', 'b', 'c'})\n",
    "sample_tuple.index(1)"
   ]
  }
 ],
 "metadata": {
  "kernelspec": {
   "display_name": "Python 3 (ipykernel)",
   "language": "python",
   "name": "python3"
  },
  "language_info": {
   "codemirror_mode": {
    "name": "ipython",
    "version": 3
   },
   "file_extension": ".py",
   "mimetype": "text/x-python",
   "name": "python",
   "nbconvert_exporter": "python",
   "pygments_lexer": "ipython3",
   "version": "3.9.7"
  }
 },
 "nbformat": 4,
 "nbformat_minor": 5
}
