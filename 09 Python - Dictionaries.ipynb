{
 "cells": [
  {
   "cell_type": "code",
   "execution_count": 1,
   "id": "aa828425",
   "metadata": {},
   "outputs": [
    {
     "data": {
      "text/plain": [
       "dict"
      ]
     },
     "execution_count": 1,
     "metadata": {},
     "output_type": "execute_result"
    }
   ],
   "source": [
    "type({1:'apple', 2:'ball'})"
   ]
  },
  {
   "cell_type": "code",
   "execution_count": 3,
   "id": "30291833",
   "metadata": {},
   "outputs": [
    {
     "name": "stdout",
     "output_type": "stream",
     "text": [
      "eagle\n"
     ]
    }
   ],
   "source": [
    "#accessing item from a dictionary\n",
    "fruits_dict = {1:'apple', 2:'ball', 3:'eagle'}\n",
    "print(fruits_dict[3])"
   ]
  },
  {
   "cell_type": "code",
   "execution_count": 4,
   "id": "422816fd",
   "metadata": {},
   "outputs": [
    {
     "name": "stdout",
     "output_type": "stream",
     "text": [
      "black\n"
     ]
    }
   ],
   "source": [
    "#accessing item from a dictionary inside a dictionary\n",
    "color_dict = {1: {'a':'black', 'b':'grey'}, 2:'red', 3:'green'}\n",
    "print(color_dict[1]['a'])"
   ]
  },
  {
   "cell_type": "code",
   "execution_count": 8,
   "id": "931fb34f",
   "metadata": {},
   "outputs": [
    {
     "name": "stdout",
     "output_type": "stream",
     "text": [
      "before change - {'india': 'delhi', 'usa': 'ny city'}\n",
      "after change - {'india': 'delhi', 'usa': 'washington'}\n"
     ]
    }
   ],
   "source": [
    "#updating/changing an item value\n",
    "chg_state = {'india':'delhi', 'usa':'ny city'}\n",
    "print('before change -', chg_state)\n",
    "chg_state['usa'] = 'washington'\n",
    "print('after change -', chg_state)"
   ]
  },
  {
   "cell_type": "code",
   "execution_count": 9,
   "id": "229fa827",
   "metadata": {},
   "outputs": [
    {
     "name": "stdout",
     "output_type": "stream",
     "text": [
      "{'india': 'delhi', 'usa': 'ny city', 'england': 'london'}\n"
     ]
    }
   ],
   "source": [
    "#adding an item to a dictionary\n",
    "add_state = {'india':'delhi', 'usa':'ny city'}\n",
    "add_state['england'] = 'london'\n",
    "print(add_state)"
   ]
  },
  {
   "cell_type": "code",
   "execution_count": 10,
   "id": "2be08265",
   "metadata": {
    "scrolled": true
   },
   "outputs": [
    {
     "name": "stdout",
     "output_type": "stream",
     "text": [
      "{'usa': 'ny city', 'england': 'london'}\n"
     ]
    }
   ],
   "source": [
    "#removing/popping an item from a dictionary\n",
    "pop_state = {'india': 'delhi', 'usa': 'ny city', 'england': 'london'}\n",
    "pop_state.pop('india')\n",
    "print(pop_state)"
   ]
  },
  {
   "cell_type": "code",
   "execution_count": 15,
   "id": "264a56e0",
   "metadata": {
    "scrolled": true
   },
   "outputs": [
    {
     "name": "stdout",
     "output_type": "stream",
     "text": [
      "True\n"
     ]
    }
   ],
   "source": [
    "#existence testing of an dictionary element\n",
    "sqr_dict = {0: 0, 1: 1, 2: 4, 3: 9, 4: 16, 5: 25, 6: 36, 7: 49, 8: 64, 9: 81}\n",
    "print(7 in sqr_dict)"
   ]
  },
  {
   "cell_type": "code",
   "execution_count": 16,
   "id": "4d7168ce",
   "metadata": {},
   "outputs": [
    {
     "name": "stdout",
     "output_type": "stream",
     "text": [
      "False\n"
     ]
    }
   ],
   "source": [
    "#existence testing of an dictionary element\n",
    "sqr_dict = {0: 0, 1: 1, 2: 4, 3: 9, 4: 16, 5: 25, 6: 36, 7: 49, 8: 64, 9: 81}\n",
    "print(750 in sqr_dict)"
   ]
  },
  {
   "cell_type": "code",
   "execution_count": 17,
   "id": "22ea3e5a",
   "metadata": {},
   "outputs": [
    {
     "name": "stdout",
     "output_type": "stream",
     "text": [
      "0\n",
      "1\n",
      "8\n",
      "27\n",
      "64\n",
      "125\n",
      "216\n",
      "343\n",
      "512\n",
      "729\n"
     ]
    }
   ],
   "source": [
    "#iterating through dictionary elements using loop\n",
    "cube_dict = {0: 0, 1: 1, 2: 8, 3: 27, 4: 64, 5: 125, 6: 216, 7: 343, 8: 512, 9: 729}\n",
    "for cube in cube_dict:\n",
    "    print(cube_dict[cube])"
   ]
  },
  {
   "cell_type": "markdown",
   "id": "f9e8f1b1",
   "metadata": {},
   "source": [
    "### Dictionary comprehension - 1"
   ]
  },
  {
   "cell_type": "code",
   "execution_count": 12,
   "id": "7771dfa7",
   "metadata": {},
   "outputs": [
    {
     "name": "stdout",
     "output_type": "stream",
     "text": [
      "{0: 0, 1: 1, 2: 4, 3: 9, 4: 16, 5: 25, 6: 36, 7: 49, 8: 64, 9: 81}\n"
     ]
    }
   ],
   "source": [
    "# Creating Square Values\n",
    "square_val = {square: square**2 \n",
    "              for square in range(10)}\n",
    "print(square_val)"
   ]
  },
  {
   "cell_type": "markdown",
   "id": "ad63e729",
   "metadata": {},
   "source": [
    "### Dictionary comprehension - 2"
   ]
  },
  {
   "cell_type": "code",
   "execution_count": 14,
   "id": "46359a2e",
   "metadata": {},
   "outputs": [
    {
     "name": "stdout",
     "output_type": "stream",
     "text": [
      "{0: 0, 1: 1, 2: 8, 3: 27, 4: 64, 5: 125, 6: 216, 7: 343, 8: 512, 9: 729}\n"
     ]
    }
   ],
   "source": [
    "# Creating Cube Values\n",
    "cube_val = {}\n",
    "for cube in range(10):\n",
    "    cube_val[cube] = cube**3\n",
    "print(cube_val)"
   ]
  }
 ],
 "metadata": {
  "kernelspec": {
   "display_name": "Python 3 (ipykernel)",
   "language": "python",
   "name": "python3"
  },
  "language_info": {
   "codemirror_mode": {
    "name": "ipython",
    "version": 3
   },
   "file_extension": ".py",
   "mimetype": "text/x-python",
   "name": "python",
   "nbconvert_exporter": "python",
   "pygments_lexer": "ipython3",
   "version": "3.9.7"
  }
 },
 "nbformat": 4,
 "nbformat_minor": 5
}
