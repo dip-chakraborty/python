{
 "cells": [
  {
   "cell_type": "code",
   "execution_count": 28,
   "id": "da78a52f",
   "metadata": {},
   "outputs": [],
   "source": [
    "indoor_game_list = ['carrom', 'ludo', 'cards', 'pvp', 'f2p']\n",
    "outdoor_game_list = ['cricket', 'football', 'hockey', 'rugby', 'pvp', 'f2p']"
   ]
  },
  {
   "cell_type": "code",
   "execution_count": 8,
   "id": "89fea150",
   "metadata": {},
   "outputs": [
    {
     "data": {
      "text/plain": [
       "list"
      ]
     },
     "execution_count": 8,
     "metadata": {},
     "output_type": "execute_result"
    }
   ],
   "source": [
    "type(indoor_game_list)"
   ]
  },
  {
   "cell_type": "code",
   "execution_count": 9,
   "id": "20d76fa1",
   "metadata": {},
   "outputs": [
    {
     "data": {
      "text/plain": [
       "list"
      ]
     },
     "execution_count": 9,
     "metadata": {},
     "output_type": "execute_result"
    }
   ],
   "source": [
    "type(outdoor_game_list)"
   ]
  },
  {
   "cell_type": "code",
   "execution_count": 10,
   "id": "a9215d34",
   "metadata": {},
   "outputs": [
    {
     "name": "stdout",
     "output_type": "stream",
     "text": [
      "5 6\n"
     ]
    }
   ],
   "source": [
    "# Printing length of list\n",
    "print(len(indoor_game_list),\n",
    "      len(outdoor_game_list))"
   ]
  },
  {
   "cell_type": "code",
   "execution_count": 11,
   "id": "cd0d82a2",
   "metadata": {},
   "outputs": [
    {
     "name": "stdout",
     "output_type": "stream",
     "text": [
      "['carrom', 'tictactoe', 'ludo', 'cards', 'pvp', 'f2p']\n"
     ]
    }
   ],
   "source": [
    "# Inserting an item in a list - arguments -> position, value\n",
    "indoor_game_list.insert(1,'tictactoe')\n",
    "print(indoor_game_list)"
   ]
  },
  {
   "cell_type": "code",
   "execution_count": 12,
   "id": "d3d4db70",
   "metadata": {},
   "outputs": [
    {
     "name": "stdout",
     "output_type": "stream",
     "text": [
      "['carrom', 'tictactoe', 'ludo', 'cards', 'pvp', 'f2p', 'others']\n"
     ]
    }
   ],
   "source": [
    "# Appending an item in a list\n",
    "indoor_game_list.append('others')\n",
    "print(indoor_game_list)"
   ]
  },
  {
   "cell_type": "code",
   "execution_count": 13,
   "id": "7063f10c",
   "metadata": {},
   "outputs": [
    {
     "name": "stdout",
     "output_type": "stream",
     "text": [
      "['carrom', 'tictactoe', 'ludo', 'cards', 'pvp', 'f2p']\n"
     ]
    }
   ],
   "source": [
    "# Removing an item from a list using item name, if not found - valueError\n",
    "indoor_game_list.remove('others')\n",
    "print(indoor_game_list)"
   ]
  },
  {
   "cell_type": "code",
   "execution_count": 14,
   "id": "ba081b59",
   "metadata": {},
   "outputs": [
    {
     "name": "stdout",
     "output_type": "stream",
     "text": [
      "['cricket', 'football', 'hockey', 'rugby', 'pvp', 'f2p']\n",
      "['cricket', 'football', 'hockey', 'pvp', 'f2p']\n"
     ]
    }
   ],
   "source": [
    "# Removing an item from a list using index value\n",
    "print(outdoor_game_list)\n",
    "outdoor_game_list.pop(3)\n",
    "print(outdoor_game_list)"
   ]
  },
  {
   "cell_type": "code",
   "execution_count": 15,
   "id": "2fda5ac4",
   "metadata": {},
   "outputs": [
    {
     "name": "stdout",
     "output_type": "stream",
     "text": [
      "['apr', 'mar', 'feb', 'jan']\n"
     ]
    }
   ],
   "source": [
    "# Reversing a list\n",
    "month_list = ['jan', 'feb', 'mar', 'apr']\n",
    "month_list.reverse()\n",
    "print(month_list)"
   ]
  },
  {
   "cell_type": "code",
   "execution_count": 16,
   "id": "1c185fb2",
   "metadata": {},
   "outputs": [
    {
     "name": "stdout",
     "output_type": "stream",
     "text": [
      "[1, 2, 3, 4, 5]\n"
     ]
    }
   ],
   "source": [
    "# Sorting a list elements\n",
    "sort_list = [2, 5, 4, 1, 3]\n",
    "sort_list.sort()\n",
    "print(sort_list)"
   ]
  },
  {
   "cell_type": "code",
   "execution_count": 17,
   "id": "fc0ec00a",
   "metadata": {},
   "outputs": [
    {
     "name": "stdout",
     "output_type": "stream",
     "text": [
      "[1, 4, 5, 6]\n"
     ]
    }
   ],
   "source": [
    "# Deleting multiple items from list - same like indexing\n",
    "junk_list = [1, 2, 3, 4, 5, 6]\n",
    "del junk_list[1:3]\n",
    "print(junk_list)"
   ]
  },
  {
   "cell_type": "code",
   "execution_count": 18,
   "id": "4771f839",
   "metadata": {},
   "outputs": [
    {
     "name": "stdout",
     "output_type": "stream",
     "text": [
      "[1, 2, 3, 4, 5]\n"
     ]
    }
   ],
   "source": [
    "# Copying a list\n",
    "before_copy_list = [1, 2, 3, 4, 5]\n",
    "after_copy_list = before_copy_list.copy()\n",
    "print(after_copy_list)"
   ]
  },
  {
   "cell_type": "code",
   "execution_count": 30,
   "id": "425fde93",
   "metadata": {
    "scrolled": true
   },
   "outputs": [
    {
     "name": "stdout",
     "output_type": "stream",
     "text": [
      "['carrom', 'ludo', 'cards', 'pvp', 'f2p', 'cricket', 'football', 'hockey', 'rugby', 'pvp', 'f2p']\n"
     ]
    }
   ],
   "source": [
    "#list concat\n",
    "game_list = indoor_game_list + outdoor_game_list\n",
    "print(game_list)"
   ]
  },
  {
   "cell_type": "markdown",
   "id": "552c664d",
   "metadata": {},
   "source": [
    "## List Comprehension"
   ]
  },
  {
   "cell_type": "code",
   "execution_count": 20,
   "id": "e11518fb",
   "metadata": {},
   "outputs": [
    {
     "name": "stdout",
     "output_type": "stream",
     "text": [
      "[1, 2, 4, 8, 16, 32, 64, 128, 256, 512]\n"
     ]
    }
   ],
   "source": [
    "# Creating list of 10 numbers with increasing power of 2\n",
    "power_list = []\n",
    "for power in range(10):\n",
    "    power_list.append(2**power)\n",
    "print(power_list)"
   ]
  },
  {
   "cell_type": "code",
   "execution_count": 21,
   "id": "ad1a9e34",
   "metadata": {},
   "outputs": [
    {
     "name": "stdout",
     "output_type": "stream",
     "text": [
      "['a', 'l', 'p', 'h', 'a', 'b', 'e', 't', 's']\n"
     ]
    }
   ],
   "source": [
    "# Iterating a String elements using list\n",
    "iterable_list = [alphabets for alphabets in 'alphabets']\n",
    "print(iterable_list)"
   ]
  },
  {
   "cell_type": "code",
   "execution_count": 22,
   "id": "f2caa10c",
   "metadata": {},
   "outputs": [
    {
     "name": "stdout",
     "output_type": "stream",
     "text": [
      "[0, 10, 20, 30, 40, 50, 60, 70, 80, 90]\n"
     ]
    }
   ],
   "source": [
    "# Printing numbes divisible by 10 through list - Conditional List Comprehension\n",
    "divisible_list = [numbers for  numbers in range(100)\n",
    "                  if (numbers %10 == 0)]\n",
    "print(divisible_list)"
   ]
  },
  {
   "cell_type": "code",
   "execution_count": 23,
   "id": "81bc3219",
   "metadata": {},
   "outputs": [
    {
     "name": "stdout",
     "output_type": "stream",
     "text": [
      "['0 - Even', '1 - Odd', '2 - Even', '3 - Odd', '4 - Even', '5 - Odd', '6 - Even', '7 - Odd', '8 - Even', '9 - Odd']\n"
     ]
    }
   ],
   "source": [
    "# Printing odd and even numbers - Conditional List Comprehension\n",
    "even_odd_numbers = [(str(numbers) + ' - Even') if numbers % 2 == 0\n",
    "                   else (str(numbers) + ' - Odd')\n",
    "                   for numbers in range(10)]\n",
    "print(even_odd_numbers)"
   ]
  }
 ],
 "metadata": {
  "kernelspec": {
   "display_name": "Python 3 (ipykernel)",
   "language": "python",
   "name": "python3"
  },
  "language_info": {
   "codemirror_mode": {
    "name": "ipython",
    "version": 3
   },
   "file_extension": ".py",
   "mimetype": "text/x-python",
   "name": "python",
   "nbconvert_exporter": "python",
   "pygments_lexer": "ipython3",
   "version": "3.9.7"
  }
 },
 "nbformat": 4,
 "nbformat_minor": 5
}
