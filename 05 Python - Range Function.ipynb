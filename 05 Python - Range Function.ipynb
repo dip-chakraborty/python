{
 "cells": [
  {
   "cell_type": "markdown",
   "id": "75341b78",
   "metadata": {},
   "source": [
    "## RANGE FUNCTION : printing first few odd numbers"
   ]
  },
  {
   "cell_type": "code",
   "execution_count": 2,
   "id": "898171bf",
   "metadata": {},
   "outputs": [
    {
     "name": "stdout",
     "output_type": "stream",
     "text": [
      "[1, 3, 5, 7, 9]\n"
     ]
    }
   ],
   "source": [
    "# Range(<staring point, default 0>,<ending point excluding that number>,<step size>)\n",
    "print(list(range(1,10,2)))"
   ]
  },
  {
   "cell_type": "markdown",
   "id": "2c4c1959",
   "metadata": {},
   "source": [
    "## RANGE FUNCTION : printing shopping basket of fruits"
   ]
  },
  {
   "cell_type": "code",
   "execution_count": 4,
   "id": "6e1f41f1",
   "metadata": {},
   "outputs": [
    {
     "name": "stdout",
     "output_type": "stream",
     "text": [
      "0 apple\n",
      "1 mango\n",
      "2 orange\n",
      "3 banana\n"
     ]
    }
   ],
   "source": [
    "fruits_list = ['apple', 'mango', 'orange', 'banana']\n",
    "for fruits in range(len(fruits_list)):\n",
    "    print(str(fruits), fruits_list[fruits])"
   ]
  },
  {
   "cell_type": "markdown",
   "id": "943f8392",
   "metadata": {},
   "source": [
    "## RANGE + For + If-Else : Finding target number within a list of numbers"
   ]
  },
  {
   "cell_type": "code",
   "execution_count": 6,
   "id": "b6826f86",
   "metadata": {},
   "outputs": [
    {
     "name": "stdout",
     "output_type": "stream",
     "text": [
      "Target not matching, checking next...\n",
      "Target not matching, checking next...\n",
      "Target not matching, checking next...\n",
      "Target Number achieved at position 4\n"
     ]
    }
   ],
   "source": [
    "age_list = [22, 32, 43, 13, 89, 54]\n",
    "target_number = 13\n",
    "for age in range(len(age_list)):\n",
    "    if age_list[age] == target_number:\n",
    "        print('Target Number achieved at position', str(age + 1))\n",
    "        break\n",
    "    else:\n",
    "        print('Target not matching, checking next...')"
   ]
  }
 ],
 "metadata": {
  "kernelspec": {
   "display_name": "Python 3 (ipykernel)",
   "language": "python",
   "name": "python3"
  },
  "language_info": {
   "codemirror_mode": {
    "name": "ipython",
    "version": 3
   },
   "file_extension": ".py",
   "mimetype": "text/x-python",
   "name": "python",
   "nbconvert_exporter": "python",
   "pygments_lexer": "ipython3",
   "version": "3.9.7"
  }
 },
 "nbformat": 4,
 "nbformat_minor": 5
}
