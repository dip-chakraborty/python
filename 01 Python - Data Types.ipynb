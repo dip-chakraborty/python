{
 "cells": [
  {
   "cell_type": "markdown",
   "id": "42137414",
   "metadata": {},
   "source": [
    "# 01 Python - Data Types"
   ]
  },
  {
   "cell_type": "code",
   "execution_count": 1,
   "id": "439fee1a",
   "metadata": {},
   "outputs": [
    {
     "data": {
      "text/plain": [
       "int"
      ]
     },
     "execution_count": 1,
     "metadata": {},
     "output_type": "execute_result"
    }
   ],
   "source": [
    "# NUMERIC DATA TYPE - INTEGERS/NUMBES\n",
    "type(1)"
   ]
  },
  {
   "cell_type": "code",
   "execution_count": 2,
   "id": "0e79848a",
   "metadata": {},
   "outputs": [
    {
     "data": {
      "text/plain": [
       "float"
      ]
     },
     "execution_count": 2,
     "metadata": {},
     "output_type": "execute_result"
    }
   ],
   "source": [
    "# FLOAT DATA WITH DECIMAL POINTS INBETWEEN\n",
    "type(1.1)"
   ]
  },
  {
   "cell_type": "code",
   "execution_count": 3,
   "id": "28eae1a8",
   "metadata": {},
   "outputs": [
    {
     "data": {
      "text/plain": [
       "str"
      ]
     },
     "execution_count": 3,
     "metadata": {},
     "output_type": "execute_result"
    }
   ],
   "source": [
    "# STRING DATA (CAN BE USED WITH DOUBLE QUOTES TOO)\n",
    "type('string')"
   ]
  },
  {
   "cell_type": "code",
   "execution_count": 5,
   "id": "5c85aea9",
   "metadata": {},
   "outputs": [
    {
     "data": {
      "text/plain": [
       "bool"
      ]
     },
     "execution_count": 5,
     "metadata": {},
     "output_type": "execute_result"
    }
   ],
   "source": [
    "# BOOLEAN DATA - TRUE/FALSE DECISIONS\n",
    "type(True)"
   ]
  },
  {
   "cell_type": "code",
   "execution_count": 6,
   "id": "9b6432dc",
   "metadata": {},
   "outputs": [
    {
     "data": {
      "text/plain": [
       "complex"
      ]
     },
     "execution_count": 6,
     "metadata": {},
     "output_type": "execute_result"
    }
   ],
   "source": [
    "# COMPLEX DATA WITH REAL AND IMAGINARY PART\n",
    "type(1+6j)"
   ]
  },
  {
   "cell_type": "code",
   "execution_count": 8,
   "id": "f369b3f0",
   "metadata": {},
   "outputs": [
    {
     "data": {
      "text/plain": [
       "tuple"
      ]
     },
     "execution_count": 8,
     "metadata": {},
     "output_type": "execute_result"
    }
   ],
   "source": [
    "#TUPLES - SEQUENCE/COLLECTION OF SIMILAR/DIFFERENT TYPES OF DATA WHICH IS IMMUTABLE/CAN'T BE ALTERED\n",
    "type((1,1.1,'string',True,(1+6j)))"
   ]
  },
  {
   "cell_type": "code",
   "execution_count": 10,
   "id": "e42ee4b0",
   "metadata": {
    "scrolled": true
   },
   "outputs": [
    {
     "data": {
      "text/plain": [
       "list"
      ]
     },
     "execution_count": 10,
     "metadata": {},
     "output_type": "execute_result"
    }
   ],
   "source": [
    "#LIST - SEQUENCE/COLLECTION OF SIMILAR/DIFFERENT TYPES OF DATA WHICH IS MUTABLE\n",
    "type([1,1.1,'string',True,(1+6j)])"
   ]
  },
  {
   "cell_type": "code",
   "execution_count": 12,
   "id": "b8a2fe9a",
   "metadata": {},
   "outputs": [
    {
     "data": {
      "text/plain": [
       "set"
      ]
     },
     "execution_count": 12,
     "metadata": {},
     "output_type": "execute_result"
    }
   ],
   "source": [
    "#SET - COLLECTION OF SIMILAR/DIFFERENT TYPE OF DATA\n",
    "type({1,1.1,'string',True,(1+6j)})"
   ]
  },
  {
   "cell_type": "code",
   "execution_count": 18,
   "id": "bb0dc3f4",
   "metadata": {},
   "outputs": [
    {
     "data": {
      "text/plain": [
       "dict"
      ]
     },
     "execution_count": 18,
     "metadata": {},
     "output_type": "execute_result"
    }
   ],
   "source": [
    "#DICTIONARY - COLLECTION OF SIMILAR/DIFFERENT TYPE OF DATA WITH A KEY:VALUE PAIR\n",
    "type({1:'NUMERIC DATA',\n",
    "      1.1:'FLOAT DATA',\n",
    "      'string':'STRING DATA',\n",
    "      True:'BOOLEAN DATA',\n",
    "      (1+6j):'COMPLEX DATA'})"
   ]
  }
 ],
 "metadata": {
  "kernelspec": {
   "display_name": "Python 3",
   "language": "python",
   "name": "python3"
  },
  "language_info": {
   "codemirror_mode": {
    "name": "ipython",
    "version": 3
   },
   "file_extension": ".py",
   "mimetype": "text/x-python",
   "name": "python",
   "nbconvert_exporter": "python",
   "pygments_lexer": "ipython3",
   "version": "3.8.8"
  }
 },
 "nbformat": 4,
 "nbformat_minor": 5
}
