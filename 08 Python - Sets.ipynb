{
 "cells": [
  {
   "cell_type": "code",
   "execution_count": 1,
   "id": "90f73385",
   "metadata": {},
   "outputs": [
    {
     "data": {
      "text/plain": [
       "set"
      ]
     },
     "execution_count": 1,
     "metadata": {},
     "output_type": "execute_result"
    }
   ],
   "source": [
    "type({1, 2, 3})"
   ]
  },
  {
   "cell_type": "code",
   "execution_count": 2,
   "id": "b4ffb5e9",
   "metadata": {},
   "outputs": [
    {
     "name": "stdout",
     "output_type": "stream",
     "text": [
      "{1, 2, 3, 4, 5}\n"
     ]
    }
   ],
   "source": [
    "#sets can't have duplicate values\n",
    "source_set_dup = {1, 2, 3, 4, 4, 5, 5}\n",
    "print(source_set_dup)"
   ]
  },
  {
   "cell_type": "code",
   "execution_count": 3,
   "id": "abc1fb7a",
   "metadata": {},
   "outputs": [
    {
     "name": "stdout",
     "output_type": "stream",
     "text": [
      "{1, 2, 3, 4, 5, 6, 7}\n"
     ]
    }
   ],
   "source": [
    "#union/addition of two sets\n",
    "add_set_A = {1, 2, 3, 4}\n",
    "add_set_B = {4, 5, 6, 7}\n",
    "print(add_set_A | add_set_B)"
   ]
  },
  {
   "cell_type": "code",
   "execution_count": 4,
   "id": "eaefb741",
   "metadata": {},
   "outputs": [
    {
     "name": "stdout",
     "output_type": "stream",
     "text": [
      "{4}\n"
     ]
    }
   ],
   "source": [
    "#intersection/common of two sets\n",
    "intersect_set_A = {1, 2, 3, 4}\n",
    "intersect_set_B = {4, 5, 6, 7}\n",
    "print(intersect_set_A & intersect_set_B)"
   ]
  },
  {
   "cell_type": "code",
   "execution_count": 5,
   "id": "84955643",
   "metadata": {},
   "outputs": [
    {
     "name": "stdout",
     "output_type": "stream",
     "text": [
      "{4}\n"
     ]
    }
   ],
   "source": [
    "#intersection/common of two sets\n",
    "intersect_set_A = {1, 2, 3, 4}\n",
    "intersect_set_B = {4, 5, 6, 7}\n",
    "print(intersect_set_A.intersection(intersect_set_B))"
   ]
  },
  {
   "cell_type": "code",
   "execution_count": 6,
   "id": "0c6d841a",
   "metadata": {},
   "outputs": [
    {
     "name": "stdout",
     "output_type": "stream",
     "text": [
      "{1, 2, 3}\n"
     ]
    }
   ],
   "source": [
    "#difference/subtraction of two sets\n",
    "diff_set_A = {1, 2, 3, 4}\n",
    "diff_set_B = {4, 5, 6, 7}\n",
    "print(diff_set_A - diff_set_B)"
   ]
  },
  {
   "cell_type": "code",
   "execution_count": 7,
   "id": "d4fc06e0",
   "metadata": {},
   "outputs": [
    {
     "name": "stdout",
     "output_type": "stream",
     "text": [
      "{1, 2, 3}\n"
     ]
    }
   ],
   "source": [
    "#difference/subtraction of two sets\n",
    "diff_set_A = {1, 2, 3, 4}\n",
    "diff_set_B = {4, 5, 6, 7}\n",
    "print(diff_set_A.difference(diff_set_B))"
   ]
  },
  {
   "cell_type": "code",
   "execution_count": 8,
   "id": "f345fe51",
   "metadata": {},
   "outputs": [
    {
     "name": "stdout",
     "output_type": "stream",
     "text": [
      "{1, 2, 3, 5, 6, 7}\n"
     ]
    }
   ],
   "source": [
    "#symmetric difference of two sets - omits intersect values\n",
    "symdiff_set_A = {1, 2, 3, 4}\n",
    "symdiff_set_B = {4, 5, 6, 7}\n",
    "print(symdiff_set_A ^ symdiff_set_B)"
   ]
  },
  {
   "cell_type": "code",
   "execution_count": 9,
   "id": "0bfd9116",
   "metadata": {},
   "outputs": [
    {
     "name": "stdout",
     "output_type": "stream",
     "text": [
      "{1, 2, 3, 5, 6, 7}\n"
     ]
    }
   ],
   "source": [
    "#symmetric difference of two sets - omits intersect values\n",
    "symdiff_set_A = {1, 2, 3, 4}\n",
    "symdiff_set_B = {4, 5, 6, 7}\n",
    "print(symdiff_set_A.symmetric_difference(symdiff_set_B))"
   ]
  },
  {
   "cell_type": "code",
   "execution_count": 10,
   "id": "809e56e3",
   "metadata": {},
   "outputs": [
    {
     "name": "stdout",
     "output_type": "stream",
     "text": [
      "{1, 2, 3, 4}\n"
     ]
    }
   ],
   "source": [
    "#adding element to a set\n",
    "add_src_set = {1, 2, 3}\n",
    "add_src_set.add(4)\n",
    "print(add_src_set)"
   ]
  },
  {
   "cell_type": "code",
   "execution_count": 11,
   "id": "f6b49dcf",
   "metadata": {},
   "outputs": [
    {
     "name": "stdout",
     "output_type": "stream",
     "text": [
      "before:  {1, 2, 3}\n",
      "after:  set()\n"
     ]
    }
   ],
   "source": [
    "#removing all elements from a set\n",
    "rmv_src_set = {1, 2, 3}\n",
    "print('before: ', rmv_src_set)\n",
    "rmv_src_set.clear()\n",
    "print('after: ', rmv_src_set)"
   ]
  },
  {
   "cell_type": "code",
   "execution_count": 12,
   "id": "2bb71665",
   "metadata": {},
   "outputs": [
    {
     "name": "stdout",
     "output_type": "stream",
     "text": [
      "apple in the basket? - True\n",
      "orange in the basket? - False\n"
     ]
    }
   ],
   "source": [
    "#existence check of an element from a set\n",
    "check_set = {'apple', 'banana', 'mango'}\n",
    "print('apple in the basket? -', 'apple' in check_set)\n",
    "print('orange in the basket? -', 'orange' in check_set)"
   ]
  },
  {
   "cell_type": "code",
   "execution_count": 13,
   "id": "2f359a69",
   "metadata": {},
   "outputs": [
    {
     "name": "stdout",
     "output_type": "stream",
     "text": [
      "puma\n",
      "nike\n",
      "adidas\n"
     ]
    }
   ],
   "source": [
    "#iterating all elements from a set\n",
    "brand_set = {'nike', 'adidas', 'puma'}\n",
    "for shoes in brand_set:\n",
    "    print(shoes)"
   ]
  }
 ],
 "metadata": {
  "kernelspec": {
   "display_name": "Python 3 (ipykernel)",
   "language": "python",
   "name": "python3"
  },
  "language_info": {
   "codemirror_mode": {
    "name": "ipython",
    "version": 3
   },
   "file_extension": ".py",
   "mimetype": "text/x-python",
   "name": "python",
   "nbconvert_exporter": "python",
   "pygments_lexer": "ipython3",
   "version": "3.9.7"
  }
 },
 "nbformat": 4,
 "nbformat_minor": 5
}
