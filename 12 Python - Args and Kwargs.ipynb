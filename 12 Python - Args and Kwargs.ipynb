{
 "cells": [
  {
   "cell_type": "markdown",
   "id": "ee34ecf8",
   "metadata": {},
   "source": [
    "# '* args' & '* * kwargs'"
   ]
  },
  {
   "cell_type": "markdown",
   "id": "4224709d",
   "metadata": {},
   "source": [
    " "
   ]
  },
  {
   "cell_type": "code",
   "execution_count": 1,
   "id": "86306d2d",
   "metadata": {},
   "outputs": [
    {
     "data": {
      "text/plain": [
       "3.0"
      ]
     },
     "execution_count": 1,
     "metadata": {},
     "output_type": "execute_result"
    }
   ],
   "source": [
    "# *args can take as many as arguments to a function\n",
    "\n",
    "def sum_and_five_percent_function(*args):\n",
    "    return sum(args) * 0.05\n",
    "\n",
    "sum_and_five_percent_function(10,20,30)"
   ]
  },
  {
   "cell_type": "code",
   "execution_count": 2,
   "id": "c5901872",
   "metadata": {},
   "outputs": [
    {
     "name": "stdout",
     "output_type": "stream",
     "text": [
      "{'fruit': 'apple', 'veggie': 'potato'}\n",
      "The fruit is apple\n"
     ]
    }
   ],
   "source": [
    "# **kwargs returns dictionary item using keyword argument as input\n",
    "\n",
    "def find_fav_fruit(**kwargs):\n",
    "    print(kwargs)\n",
    "    if 'fruit' in kwargs:\n",
    "        print('The fruit is {}'.format(kwargs['fruit']))\n",
    "    else:\n",
    "        print('Not found')\n",
    "\n",
    "find_fav_fruit(fruit='apple',veggie='potato')"
   ]
  },
  {
   "cell_type": "code",
   "execution_count": 3,
   "id": "dfb57086",
   "metadata": {},
   "outputs": [
    {
     "name": "stdout",
     "output_type": "stream",
     "text": [
      "(20, 30, 40)\n",
      "{'city': 'noida', 'country': 'india'}\n",
      "I am 30 and my country is india\n"
     ]
    }
   ],
   "source": [
    "# Using *args and **kwargs altogether\n",
    "\n",
    "def args_and_kwargs(*args, **kwargs):\n",
    "    print(args)\n",
    "    print(kwargs)\n",
    "    print('I am {} and my country is {}'.format(args[1],kwargs['country']))\n",
    "    return\n",
    "\n",
    "args_and_kwargs(20,30,40,city='noida',country='india')"
   ]
  }
 ],
 "metadata": {
  "kernelspec": {
   "display_name": "Python 3 (ipykernel)",
   "language": "python",
   "name": "python3"
  },
  "language_info": {
   "codemirror_mode": {
    "name": "ipython",
    "version": 3
   },
   "file_extension": ".py",
   "mimetype": "text/x-python",
   "name": "python",
   "nbconvert_exporter": "python",
   "pygments_lexer": "ipython3",
   "version": "3.9.7"
  }
 },
 "nbformat": 4,
 "nbformat_minor": 5
}
