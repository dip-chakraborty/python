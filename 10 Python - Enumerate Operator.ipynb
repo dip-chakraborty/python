{
 "cells": [
  {
   "cell_type": "code",
   "execution_count": 1,
   "id": "161a8b76",
   "metadata": {},
   "outputs": [
    {
     "name": "stdout",
     "output_type": "stream",
     "text": [
      "At pos 0, alphabet is 'a'\n",
      "At pos 1, alphabet is 'l'\n",
      "At pos 2, alphabet is 'p'\n",
      "At pos 3, alphabet is 'h'\n",
      "At pos 4, alphabet is 'a'\n",
      "At pos 5, alphabet is 'b'\n",
      "At pos 6, alphabet is 'e'\n",
      "At pos 7, alphabet is 't'\n",
      "At pos 8, alphabet is 's'\n"
     ]
    }
   ],
   "source": [
    "# Regular way 1\n",
    "position = 0\n",
    "word = 'alphabets'\n",
    "for alphabet in word:\n",
    "    print('At pos {}, alphabet is \\'{}\\''.format(position,alphabet))\n",
    "    position += 1"
   ]
  },
  {
   "cell_type": "code",
   "execution_count": 2,
   "id": "1d26329e",
   "metadata": {},
   "outputs": [
    {
     "name": "stdout",
     "output_type": "stream",
     "text": [
      "W\n",
      "o\n",
      "r\n",
      "l\n",
      "d\n"
     ]
    }
   ],
   "source": [
    "# Regular Way 2\n",
    "counter = 0\n",
    "world = 'World'\n",
    "for items in world:\n",
    "    print(world[counter])\n",
    "    counter += 1"
   ]
  },
  {
   "cell_type": "code",
   "execution_count": 3,
   "id": "b225d3a6",
   "metadata": {},
   "outputs": [
    {
     "name": "stdout",
     "output_type": "stream",
     "text": [
      "(0, 'e')\n",
      "(1, 'n')\n",
      "(2, 'u')\n",
      "(3, 'm')\n",
      "(4, 'e')\n",
      "(5, 'r')\n",
      "(6, 'a')\n",
      "(7, 't')\n",
      "(8, 'e')\n"
     ]
    }
   ],
   "source": [
    "# Using Enumerate\n",
    "for item in enumerate('enumerate'):\n",
    "    print(item)"
   ]
  },
  {
   "cell_type": "code",
   "execution_count": 6,
   "id": "f9a65f13",
   "metadata": {},
   "outputs": [
    {
     "name": "stdout",
     "output_type": "stream",
     "text": [
      "At pos 0, value is 'v'\n",
      "At pos 1, value is 'a'\n",
      "At pos 2, value is 'l'\n",
      "At pos 3, value is 'u'\n",
      "At pos 4, value is 'e'\n"
     ]
    }
   ],
   "source": [
    "# Using Enumerate Tuple unpacking\n",
    "for index, values in enumerate('value'):\n",
    "    print('At pos {}, value is \\'{}\\''.format(index,values))"
   ]
  }
 ],
 "metadata": {
  "kernelspec": {
   "display_name": "Python 3 (ipykernel)",
   "language": "python",
   "name": "python3"
  },
  "language_info": {
   "codemirror_mode": {
    "name": "ipython",
    "version": 3
   },
   "file_extension": ".py",
   "mimetype": "text/x-python",
   "name": "python",
   "nbconvert_exporter": "python",
   "pygments_lexer": "ipython3",
   "version": "3.9.7"
  }
 },
 "nbformat": 4,
 "nbformat_minor": 5
}
